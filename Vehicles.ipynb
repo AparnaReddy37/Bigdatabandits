{
 "cells": [
  {
   "cell_type": "code",
   "execution_count": 1,
   "id": "46f202e2-d291-4a72-8bd9-d0d7a0dac0cf",
   "metadata": {},
   "outputs": [],
   "source": []
  },
  {
   "cell_type": "code",
   "execution_count": 2,
   "id": "e8e292ae-9f32-4806-9d3e-421ca99af52f",
   "metadata": {},
   "outputs": [],
   "source": []
  },
  {
   "attachments": {},
   "cell_type": "markdown",
   "id": "1b5ac091-de5d-4436-8f70-bdb6e76c958f",
   "metadata": {},
   "source": [
    "year\tmake\tmodel\ttrim\tbody\ttransmission\tvin\tstate\tcondition\todometer\tcolor\tinterior\tseller\tmmr\tsellingprice\tsaledate"
   ]
  },
  {
   "cell_type": "code",
   "execution_count": 3,
   "id": "8fb69d40-cca0-4a99-a1c6-c5e7c3d22c4f",
   "metadata": {},
   "outputs": [],
   "source": [
    "\n",
    "\n"
   ]
  },
  {
   "cell_type": "code",
   "execution_count": 4,
   "id": "9fc8942d-5f2f-4f2e-be6a-9e5f64b0ed1d",
   "metadata": {},
   "outputs": [
    {
     "name": "stdout",
     "output_type": "stream",
     "text": [
      "+----+---------+-------------------+--------------------+-----------+------------+-----------------+-----+---------+--------+------+--------+--------------------+-----+------------+--------------------+\n",
      "|year|     make|              model|                trim|       body|transmission|              vin|state|condition|odometer| color|interior|              seller|  mmr|sellingprice|            saledate|\n",
      "+----+---------+-------------------+--------------------+-----------+------------+-----------------+-----+---------+--------+------+--------+--------------------+-----+------------+--------------------+\n",
      "|2015|      Kia|            Sorento|                  LX|        SUV|   automatic|5xyktca69fg566472|   ca|        5|   16639| white|   black|kia motors americ...|20500|       21500|Tue Dec 16 2014 1...|\n",
      "|2015|      Kia|            Sorento|                  LX|        SUV|   automatic|5xyktca69fg561319|   ca|        5|    9393| white|   beige|kia motors americ...|20800|       21500|Tue Dec 16 2014 1...|\n",
      "|2014|      BMW|           3 Series|          328i SULEV|      Sedan|   automatic|wba3c1c51ek116351|   ca|       45|    1331|  gray|   black|financial service...|31900|       30000|Thu Jan 15 2015 0...|\n",
      "|2015|    Volvo|                S60|                  T5|      Sedan|   automatic|yv1612tb4f1310987|   ca|       41|   14282| white|   black|volvo na rep/worl...|27500|       27750|Thu Jan 29 2015 0...|\n",
      "|2014|      BMW|6 Series Gran Coupe|                650i|      Sedan|   automatic|wba6b2c57ed129731|   ca|       43|    2641|  gray|   black|financial service...|66000|       67000|Thu Dec 18 2014 1...|\n",
      "|2015|   Nissan|             Altima|               2.5 S|      Sedan|   automatic|1n4al3ap1fn326013|   ca|        1|    5554|  gray|   black|enterprise vehicl...|15350|       10900|Tue Dec 30 2014 1...|\n",
      "|2014|      BMW|                 M5|                Base|      Sedan|   automatic|wbsfv9c51ed593089|   ca|       34|   14943| black|   black|the hertz corpora...|69000|       65000|Wed Dec 17 2014 1...|\n",
      "|2014|Chevrolet|              Cruze|                 1LT|      Sedan|   automatic|1g1pc5sb2e7128460|   ca|        2|   28617| black|   black|enterprise vehicl...|11900|        9800|Tue Dec 16 2014 1...|\n",
      "|2014|     Audi|                 A4|2.0T Premium Plus...|      Sedan|   automatic|wauffafl3en030343|   ca|       42|    9557| white|   black|  audi mission viejo|32100|       32250|Thu Dec 18 2014 1...|\n",
      "|2014|Chevrolet|             Camaro|                  LT|Convertible|   automatic|2g1fb3d37e9218789|   ca|        3|    4809|   red|   black|  d/m auto sales inc|26300|       17500|Tue Jan 20 2015 0...|\n",
      "|2014|     Audi|                 A6|3.0T Prestige qua...|      Sedan|   automatic|wauhgafc0en062916|   ca|       48|   14414| black|   black|   desert auto trade|47300|       49750|Tue Dec 16 2014 1...|\n",
      "|2015|      Kia|             Optima|                  LX|      Sedan|   automatic|5xxgm4a73fg353538|   ca|       48|    2034|   red|     tan|  kia motors finance|15150|       17700|Tue Dec 16 2014 1...|\n",
      "|2015|     Ford|             Fusion|                  SE|      Sedan|   automatic|3fa6p0hdxfr145753|   ca|        2|    5559| white|   beige|enterprise vehicl...|15350|       12000|Tue Jan 13 2015 1...|\n",
      "|2015|      Kia|            Sorento|                  LX|        SUV|   automatic|5xyktca66fg561407|   ca|        5|   14634|silver|   black|kia motors americ...|20600|       21500|Tue Dec 16 2014 1...|\n",
      "|2014|Chevrolet|              Cruze|                 2LT|      Sedan|   automatic|1g1pe5sbxe7120097|   ca|     NULL|   15686|  blue|   black|avis rac/san leandro|13900|       10600|Tue Dec 16 2014 1...|\n",
      "|2015|   Nissan|             Altima|               2.5 S|      Sedan|   automatic|1n4al3ap5fc124223|   ca|        2|   11398| black|   black|enterprise vehicl...|14750|       14100|Tue Dec 23 2014 1...|\n",
      "|2015|  Hyundai|             Sonata|                  SE|      Sedan|   automatic|5npe24af4fh001562|   ca|     NULL|    8311|   red|       —|            avis tra|15200|        4200|Tue Dec 16 2014 1...|\n",
      "|2014|     Audi|                 Q5|2.0T Premium Plus...|        SUV|   automatic|wa1lfafpxea085074|   ca|       49|    7983| white|   black|audi north scotts...|37100|       40000|Thu Dec 18 2014 1...|\n",
      "|2014|Chevrolet|             Camaro|                  LS|      Coupe|   automatic|2g1fa1e39e9134494|   ca|       17|   13441| black|   black|wells fargo deale...|17750|       17000|Tue Dec 30 2014 1...|\n",
      "|2014|      BMW|           6 Series|                650i|Convertible|   automatic|wbayp9c53ed169260|   ca|       34|    8819| black|   black|the hertz corpora...|68000|       67200|Wed Dec 17 2014 1...|\n",
      "+----+---------+-------------------+--------------------+-----------+------------+-----------------+-----+---------+--------+------+--------+--------------------+-----+------------+--------------------+\n",
      "only showing top 20 rows\n",
      "\n"
     ]
    }
   ],
   "source": [
    "df.show()"
   ]
  },
  {
   "cell_type": "code",
   "execution_count": 5,
   "id": "4c036a68-0a58-4fc3-8252-c9f019feef22",
   "metadata": {},
   "outputs": [],
   "source": [
    "df.createOrReplaceTempView(\"vehicles\")"
   ]
  },
  {
   "cell_type": "code",
   "execution_count": 6,
   "id": "f550d883-11ce-4743-9ce5-aced64db2993",
   "metadata": {},
   "outputs": [
    {
     "name": "stdout",
     "output_type": "stream",
     "text": [
      "Top-selling vehicle makes and models:\n",
      "+---------+--------------+-----+\n",
      "|     make|         model|count|\n",
      "+---------+--------------+-----+\n",
      "|   Nissan|        Altima|19349|\n",
      "|     Ford|         F-150|14479|\n",
      "|     Ford|        Fusion|12946|\n",
      "|   Toyota|         Camry|12545|\n",
      "|     Ford|        Escape|11861|\n",
      "|     Ford|         Focus|10394|\n",
      "|     NULL|          NULL|10301|\n",
      "|    Honda|        Accord| 9127|\n",
      "|      BMW|      3 Series| 8204|\n",
      "|    Dodge| Grand Caravan| 7941|\n",
      "|Chevrolet|        Impala| 7923|\n",
      "|     Ford|      Explorer| 7707|\n",
      "|    Honda|         Civic| 7433|\n",
      "| Infiniti|       G Sedan| 7417|\n",
      "|   Toyota|       Corolla| 7354|\n",
      "|Chevrolet|        Malibu| 7028|\n",
      "|  Hyundai|        Sonata| 6914|\n",
      "|   Nissan|        Maxima| 6611|\n",
      "|Chevrolet|Silverado 1500| 6362|\n",
      "|Chevrolet|         Cruze| 6348|\n",
      "+---------+--------------+-----+\n",
      "only showing top 20 rows\n",
      "\n"
     ]
    }
   ],
   "source": [
    "top_selling = df.groupBy(\"make\", \"model\").count().orderBy(col(\"count\").desc())\n",
    "print(\"Top-selling vehicle makes and models:\")\n",
    "top_selling.show()"
   ]
  },
  {
   "cell_type": "code",
   "execution_count": 7,
   "id": "01ff41d9-5a7c-49d1-b4b1-5041a36057c9",
   "metadata": {},
   "outputs": [
    {
     "name": "stdout",
     "output_type": "stream",
     "text": [
      "Distribution of vehicle sales by year and body type:\n",
      "+----+-----------+-----+\n",
      "|year|body       |count|\n",
      "+----+-----------+-----+\n",
      "|1990|Convertible|5    |\n",
      "|1990|Hatchback  |6    |\n",
      "|1990|Regular Cab|3    |\n",
      "|1990|SUV        |2    |\n",
      "|1990|Sedan      |25   |\n",
      "|1990|hatchback  |1    |\n",
      "|1990|sedan      |2    |\n",
      "|1991|Convertible|10   |\n",
      "|1991|Coupe      |2    |\n",
      "|1991|Hatchback  |4    |\n",
      "|1991|Regular Cab|3    |\n",
      "|1991|Sedan      |36   |\n",
      "|1991|convertible|1    |\n",
      "|1991|sedan      |3    |\n",
      "|1991|wagon      |1    |\n",
      "|1992|Convertible|7    |\n",
      "|1992|Coupe      |10   |\n",
      "|1992|Regular Cab|2    |\n",
      "|1992|SUV        |9    |\n",
      "|1992|Sedan      |75   |\n",
      "+----+-----------+-----+\n",
      "only showing top 20 rows\n",
      "\n"
     ]
    }
   ],
   "source": [
    "sales_distribution = df.groupBy(\"year\", \"body\").count().orderBy(\"year\", \"body\").filter(\"body IS NOT NULL\")\n",
    "print(\"Distribution of vehicle sales by year and body type:\")\n",
    "sales_distribution.show(truncate = False)"
   ]
  },
  {
   "cell_type": "code",
   "execution_count": 8,
   "id": "bec90a1d-4885-4590-8cb2-f642ffb0ff1d",
   "metadata": {},
   "outputs": [
    {
     "name": "stdout",
     "output_type": "stream",
     "text": [
      "Average selling price by vehicle condition:\n",
      "+---------+------------------+\n",
      "|condition| avg(sellingprice)|\n",
      "+---------+------------------+\n",
      "|       14|3323.8805970149256|\n",
      "|       13| 3554.878048780488|\n",
      "|       12|3820.7894736842104|\n",
      "|       15|3913.5416666666665|\n",
      "|        1| 3923.135931558935|\n",
      "|       17|4074.8971193415637|\n",
      "|       16|  4386.23595505618|\n",
      "|       11| 4504.482758620689|\n",
      "|       18|  4584.05572755418|\n",
      "|       19| 5082.002530986848|\n",
      "|        2| 5691.410437710438|\n",
      "|       21| 7330.597673660181|\n",
      "|       22| 7616.581310879974|\n",
      "|       23| 8062.063873961895|\n",
      "|       24| 8361.518014153979|\n",
      "|       25| 8839.977386734612|\n",
      "|       26| 9174.055662832676|\n",
      "|       27| 9643.028195718654|\n",
      "|       28|10198.823434322365|\n",
      "|       29|10756.953455198647|\n",
      "+---------+------------------+\n",
      "only showing top 20 rows\n",
      "\n"
     ]
    }
   ],
   "source": [
    "condition_price_relation = df.groupBy(\"condition\").avg(\"sellingprice\").orderBy(\"avg(sellingprice)\").filter(\"condition is NOT NULL\")\n",
    "print(\"Average selling price by vehicle condition:\")\n",
    "condition_price_relation.show()"
   ]
  },
  {
   "cell_type": "code",
   "execution_count": 9,
   "id": "9c330756-801b-44f8-949c-954aaa4f26c9",
   "metadata": {},
   "outputs": [
    {
     "name": "stdout",
     "output_type": "stream",
     "text": [
      "Correlation between odometer reading and selling price: -0.5820050850182062\n"
     ]
    }
   ],
   "source": [
    "from pyspark.sql.functions import corr\n",
    "\n",
    "# Calculate the correlation between odometer reading and selling price\n",
    "correlation = df.stat.corr(\"odometer\", \"sellingprice\")\n",
    "\n",
    "# Print the correlation coefficient\n",
    "print(\"Correlation between odometer reading and selling price:\", correlation)\n"
   ]
  },
  {
   "cell_type": "code",
   "execution_count": 10,
   "id": "bc3c8005-268c-4de8-addd-6e2055bf70f4",
   "metadata": {},
   "outputs": [
    {
     "name": "stdout",
     "output_type": "stream",
     "text": [
      "+---------+--------+------------------+\n",
      "|    color|interior| avg(sellingprice)|\n",
      "+---------+--------+------------------+\n",
      "|     pink|   black|15989.583333333334|\n",
      "| burgundy|   white|           17510.0|\n",
      "|    white|   black| 16685.36355064655|\n",
      "|     gold|       —| 4530.500978473581|\n",
      "|   purple|    blue| 6933.333333333333|\n",
      "|        —|    gray|15724.464991823992|\n",
      "| charcoal|   beige|19973.170731707316|\n",
      "|   silver|  purple|11542.424242424242|\n",
      "| burgundy|   green|           18725.0|\n",
      "|      red|   white|13476.923076923076|\n",
      "|     gray|  silver|10992.196531791908|\n",
      "|     gray|  purple|11400.023255813954|\n",
      "|     gray|     tan|13265.341180731619|\n",
      "|    brown|    gold|16366.666666666666|\n",
      "| charcoal|   black|17601.890566037735|\n",
      "|        —|   brown|28207.738095238095|\n",
      "|    green|   brown|10643.070175438597|\n",
      "|    black|  silver|  9747.76119402985|\n",
      "|off-white|    gray|12893.978102189782|\n",
      "|    black|   black|17248.917206763803|\n",
      "+---------+--------+------------------+\n",
      "only showing top 20 rows\n",
      "\n"
     ]
    }
   ],
   "source": [
    "# Group by color and interior, and calculate the average selling price\n",
    "avg_price_by_color_interior = df.groupBy(\"color\", \"interior\").avg(\"sellingprice\")\n",
    "\n",
    "# Show the results\n",
    "avg_price_by_color_interior.show()\n"
   ]
  },
  {
   "cell_type": "code",
   "execution_count": 11,
   "id": "2580091e-e9a3-4d53-8a0a-5c7972911cdf",
   "metadata": {},
   "outputs": [
    {
     "name": "stdout",
     "output_type": "stream",
     "text": [
      "+--------------------+------------------+\n",
      "|              seller| avg(sellingprice)|\n",
      "+--------------------+------------------+\n",
      "|balboa thrift & l...| 8912.295081967213|\n",
      "|california auto w...|17726.356589147286|\n",
      "|repo remarketing/...|            7550.0|\n",
      "|jaguar land rover...|           11770.0|\n",
      "|   low gos used cars| 4241.666666666667|\n",
      "|montclair auto sl...|10576.271186440677|\n",
      "|     pa distributors|15111.111111111111|\n",
      "|autolenders liqui...| 7546.198453608247|\n",
      "|   bailey auto plaza|27258.333333333332|\n",
      "|southern auto fin...| 5745.859872611465|\n",
      "|      rock chevrolet| 6072.222222222223|\n",
      "|premier toyota of...| 4556.060606060606|\n",
      "|        richmond bmw|            6475.0|\n",
      "|jaguar land rover...|            5512.5|\n",
      "|   loeber motors inc|            4400.0|\n",
      "|    frank kent honda| 7102.631578947368|\n",
      "|autonation honda ...|3375.5725190839694|\n",
      "|princeton chevrol...|            5000.0|\n",
      "|anthony underwood...| 7933.333333333333|\n",
      "|grossinger toyota...|            9475.0|\n",
      "+--------------------+------------------+\n",
      "only showing top 20 rows\n",
      "\n"
     ]
    }
   ],
   "source": [
    "# Group by seller and calculate the average selling price\n",
    "avg_price_by_seller = df.groupBy(\"seller\").avg(\"sellingprice\")\n",
    "\n",
    "# Show the results\n",
    "avg_price_by_seller.show()\n"
   ]
  },
  {
   "cell_type": "code",
   "execution_count": 12,
   "id": "3b86df38-7222-47e4-94b8-66e4e6d4b63c",
   "metadata": {},
   "outputs": [
    {
     "name": "stdout",
     "output_type": "stream",
     "text": [
      "+------------+------------------+\n",
      "|transmission| avg(sellingprice)|\n",
      "+------------+------------------+\n",
      "|        NULL|14772.304142247249|\n",
      "|   automatic|13540.406865670388|\n",
      "|      manual|11211.448358413132|\n",
      "|       Sedan|13686.363636363636|\n",
      "|       sedan|           13650.0|\n",
      "+------------+------------------+\n",
      "\n"
     ]
    }
   ],
   "source": [
    "# Group by transmission type and calculate the average selling price\n",
    "avg_price_by_transmission = df.groupBy(\"transmission\").avg(\"sellingprice\")\n",
    "\n",
    "# Show the results\n",
    "avg_price_by_transmission.show()\n"
   ]
  },
  {
   "cell_type": "code",
   "execution_count": 13,
   "id": "e5e55159-d248-46fb-8c59-abd9b4e739d2",
   "metadata": {},
   "outputs": [
    {
     "name": "stdout",
     "output_type": "stream",
     "text": [
      "+-----+-----+\n",
      "|state|count|\n",
      "+-----+-----+\n",
      "|   fl|82945|\n",
      "|   ca|73148|\n",
      "|   pa|53907|\n",
      "|   tx|45913|\n",
      "|   ga|34750|\n",
      "|   nj|27784|\n",
      "|   il|23486|\n",
      "|   nc|21845|\n",
      "|   oh|21575|\n",
      "|   tn|20895|\n",
      "|   mo|16013|\n",
      "|   mi|15511|\n",
      "|   nv|12685|\n",
      "|   va|12027|\n",
      "|   md|11158|\n",
      "|   wi| 9851|\n",
      "|   mn| 9429|\n",
      "|   az| 8741|\n",
      "|   co| 7775|\n",
      "|   wa| 7416|\n",
      "+-----+-----+\n",
      "only showing top 20 rows\n",
      "\n"
     ]
    }
   ],
   "source": [
    "# Group by state and count the number of sales\n",
    "sales_by_state = df.groupBy(\"state\").count().orderBy(\"count\", ascending=False)\n",
    "\n",
    "# Show the results\n",
    "sales_by_state.show()\n"
   ]
  },
  {
   "cell_type": "code",
   "execution_count": null,
   "id": "e0588d99-9ef9-4fba-96fe-1803dd965739",
   "metadata": {},
   "outputs": [],
   "source": []
  }
 ],
 "metadata": {
  "kernelspec": {
   "display_name": "Python 3 (ipykernel)",
   "language": "python",
   "name": "python3"
  },
  "language_info": {
   "codemirror_mode": {
    "name": "ipython",
    "version": 3
   },
   "file_extension": ".py",
   "mimetype": "text/x-python",
   "name": "python",
   "nbconvert_exporter": "python",
   "pygments_lexer": "ipython3",
   "version": "3.12.2"
  }
 },
 "nbformat": 4,
 "nbformat_minor": 5
}
